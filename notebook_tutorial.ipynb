{
 "cells": [
  {
   "cell_type": "markdown",
   "metadata": {},
   "source": [
    "https://www.dataquest.io/blog/jupyter-notebook-tips-tricks-shortcuts/"
   ]
  },
  {
   "cell_type": "markdown",
   "metadata": {},
   "source": [
    "Start iPython notebook by using \"ipython notebook\" on the terminal\n",
    "Rename notebook by clicking Untitled\n",
    "[*] for inputs and Out[*] for output"
   ]
  },
  {
   "cell_type": "markdown",
   "metadata": {},
   "source": [
    "Run command palette: Ctrl + Shift + P"
   ]
  },
  {
   "cell_type": "markdown",
   "metadata": {},
   "source": [
    "Esc - Edit mode to command mode - Can navigate around your notebook with arrow keys\n",
    "    While in command mode:\n",
    "    A: insert a new cell above the current cell\n",
    "    B: insert a new cell below\n",
    "    M: change the current cell to Markdown\n",
    "    Y: change it current cell to code\n",
    "    D + D (press the key twice) to delete the current cell\n",
    "Enter: from command mode back into edit mode"
   ]
  },
  {
   "cell_type": "markdown",
   "metadata": {},
   "source": [
    "“Shift + Enter” - Run code and insert a new row\n",
    "“ALT + Enter” - Run code and do not insert a new row"
   ]
  },
  {
   "cell_type": "markdown",
   "metadata": {},
   "source": [
    "Shift + Tab will show you the Docstring (documentation) for the the object you have just typed in a code cell - you can keep pressing this short cut to cycle through a few modes of documentation.\n",
    "Ctrl + Shift + - will split the current cell into two from where your cursor is.\n",
    "Esc + F Find and replace on your code but not the outputs.\n",
    "Esc + O Toggle cell output.\n",
    "Select Multiple Cells:\n",
    "Shift + J or Shift + Down selects the next sell in a downwards direction. You can also select sells in an upwards direction by using Shift + K or Shift + Up.\n",
    "Once cells are selected, you can then delete / copy / cut / paste / run them as a batch. This is helpful when you need to move parts of a notebook.\n",
    "You can also use Shift + M to merge multiple cells."
   ]
  },
  {
   "cell_type": "code",
   "execution_count": null,
   "metadata": {},
   "outputs": [],
   "source": []
  }
 ],
 "metadata": {
  "kernelspec": {
   "display_name": "Python 3",
   "language": "python",
   "name": "python3"
  },
  "language_info": {
   "codemirror_mode": {
    "name": "ipython",
    "version": 3
   },
   "file_extension": ".py",
   "mimetype": "text/x-python",
   "name": "python",
   "nbconvert_exporter": "python",
   "pygments_lexer": "ipython3",
   "version": "3.6.5"
  }
 },
 "nbformat": 4,
 "nbformat_minor": 2
}
