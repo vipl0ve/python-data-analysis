{
 "cells": [
  {
   "cell_type": "markdown",
   "metadata": {},
   "source": [
    "## 1. Introduction to Bash ##"
   ]
  },
  {
   "cell_type": "markdown",
   "metadata": {},
   "source": [
    "Bash (or many times referred as “the command line”) is not a language directly built for data science. It’s a command language which let’s you to interact with your operation system (in this case Ubuntu)"
   ]
  },
  {
   "cell_type": "code",
   "execution_count": 2,
   "metadata": {},
   "outputs": [
    {
     "name": "stdout",
     "output_type": "stream",
     "text": [
      "--2018-09-15 18:22:15--  http://stat-computing.org/dataexpo/2009/2007.csv.bz2\n",
      "Resolving stat-computing.org (stat-computing.org)... 54.231.177.35\n",
      "Connecting to stat-computing.org (stat-computing.org)|54.231.177.35|:80... connected.\n",
      "HTTP request sent, awaiting response... 200 OK\n",
      "Length: 121249243 (116M) [application/x-bzip2]\n",
      "Saving to: ‘2007.csv.bz2’\n",
      "\n",
      "2007.csv.bz2        100%[===================>] 115.63M  7.77MB/s    in 18s     \n",
      "\n",
      "2018-09-15 18:22:34 (6.39 MB/s) - ‘2007.csv.bz2’ saved [121249243/121249243]\n",
      "\n"
     ]
    }
   ],
   "source": [
    "!wget http://stat-computing.org/dataexpo/2009/2007.csv.bz2"
   ]
  },
  {
   "cell_type": "code",
   "execution_count": 2,
   "metadata": {},
   "outputs": [
    {
     "ename": "SyntaxError",
     "evalue": "invalid syntax (<ipython-input-2-70dbb74dfdcd>, line 1)",
     "output_type": "error",
     "traceback": [
      "\u001b[0;36m  File \u001b[0;32m\"<ipython-input-2-70dbb74dfdcd>\"\u001b[0;36m, line \u001b[0;32m1\u001b[0m\n\u001b[0;31m    dtrx 2007.csv.bz2\u001b[0m\n\u001b[0m             ^\u001b[0m\n\u001b[0;31mSyntaxError\u001b[0m\u001b[0;31m:\u001b[0m invalid syntax\n"
     ]
    }
   ],
   "source": [
    "# unzip the file\n",
    "dtrx 2007.csv.bz2 "
   ]
  },
  {
   "cell_type": "code",
   "execution_count": 4,
   "metadata": {},
   "outputs": [
    {
     "name": "stdout",
     "output_type": "stream",
     "text": [
      " 2007.csv               \u001b[0m\u001b[01;34mLoan-Prediction-Problem\u001b[0m/   zoo.csv\r\n",
      " \u001b[01;31m2007.csv.bz2\u001b[0m           pandas_tutorial_buy.csv    zoo_eats.csv\r\n",
      "'Bash Tutorial.ipynb'   pandas_tutorial_read.csv\r\n"
     ]
    }
   ],
   "source": [
    "ls -v # list all the files and folders"
   ]
  },
  {
   "cell_type": "code",
   "execution_count": 5,
   "metadata": {},
   "outputs": [
    {
     "data": {
      "text/plain": [
       "'/home/viplove/workspace/gitProjects/python-data-analysis/data'"
      ]
     },
     "execution_count": 5,
     "metadata": {},
     "output_type": "execute_result"
    }
   ],
   "source": [
    "pwd # pwd stands for “print working directory”"
   ]
  },
  {
   "cell_type": "code",
   "execution_count": 6,
   "metadata": {},
   "outputs": [],
   "source": [
    "mkdir hello # make directory \"hello\""
   ]
  },
  {
   "cell_type": "code",
   "execution_count": 11,
   "metadata": {},
   "outputs": [
    {
     "name": "stdout",
     "output_type": "stream",
     "text": [
      " 2007.csv               \u001b[0m\u001b[01;34mLoan-Prediction-Problem\u001b[0m/   pandas_tutorial_read.csv\r\n",
      " \u001b[01;31m2007.csv.bz2\u001b[0m           \u001b[01;34mhello\u001b[0m/                     zoo.csv\r\n",
      "'Bash Tutorial.ipynb'   pandas_tutorial_buy.csv    zoo_eats.csv\r\n"
     ]
    }
   ],
   "source": [
    "ls -v"
   ]
  },
  {
   "cell_type": "code",
   "execution_count": 15,
   "metadata": {},
   "outputs": [],
   "source": [
    "cp 2007.csv hello/delay2007.csv # copy file from one location to another location"
   ]
  },
  {
   "cell_type": "code",
   "execution_count": 17,
   "metadata": {},
   "outputs": [
    {
     "name": "stdout",
     "output_type": "stream",
     "text": [
      "/home/viplove/workspace/gitProjects/python-data-analysis/data/hello\n"
     ]
    }
   ],
   "source": [
    "cd hello/ # change directory"
   ]
  },
  {
   "cell_type": "code",
   "execution_count": 19,
   "metadata": {},
   "outputs": [
    {
     "name": "stdout",
     "output_type": "stream",
     "text": [
      "delay2007.csv\r\n"
     ]
    }
   ],
   "source": [
    "ls -v"
   ]
  },
  {
   "cell_type": "code",
   "execution_count": 20,
   "metadata": {},
   "outputs": [],
   "source": [
    "mv delay2007.csv flightdelays.csv"
   ]
  },
  {
   "cell_type": "markdown",
   "metadata": {},
   "source": [
    "cat flightdelays.csv"
   ]
  },
  {
   "cell_type": "markdown",
   "metadata": {},
   "source": [
    "wc -c flighdelays.csv"
   ]
  },
  {
   "cell_type": "markdown",
   "metadata": {},
   "source": [
    "head flightdelays.csv"
   ]
  },
  {
   "cell_type": "markdown",
   "metadata": {},
   "source": [
    "tail flightdelays.csv"
   ]
  },
  {
   "cell_type": "markdown",
   "metadata": {},
   "source": [
    "head flightdelays.csv > first_ten_lines.csv"
   ]
  },
  {
   "cell_type": "markdown",
   "metadata": {},
   "source": [
    "## The concept of pipe in Bash ##"
   ]
  },
  {
   "cell_type": "markdown",
   "metadata": {},
   "source": [
    "https://data36.com/data-coding-101-introduction-bash/\n",
    "\n",
    "https://data36.com/bash-intro-2-data-coding-101/\n",
    "\n",
    "https://data36.com/command-line-data-science-introduction-to-bash/\n",
    "\n",
    "https://data36.com/data-coding-bash-best-practices/\n",
    "\n",
    "https://data36.com/variables-if-statements-while-loops-bash-data-science/\n",
    "\n",
    "https://data36.com/command-line-data-awk-sed-join-date/"
   ]
  },
  {
   "cell_type": "code",
   "execution_count": null,
   "metadata": {},
   "outputs": [],
   "source": []
  }
 ],
 "metadata": {
  "kernelspec": {
   "display_name": "Python 3",
   "language": "python",
   "name": "python3"
  },
  "language_info": {
   "codemirror_mode": {
    "name": "ipython",
    "version": 3
   },
   "file_extension": ".py",
   "mimetype": "text/x-python",
   "name": "python",
   "nbconvert_exporter": "python",
   "pygments_lexer": "ipython3",
   "version": "3.6.5"
  }
 },
 "nbformat": 4,
 "nbformat_minor": 2
}
